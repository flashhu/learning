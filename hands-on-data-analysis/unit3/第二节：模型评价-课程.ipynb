{
 "cells": [
  {
   "cell_type": "markdown",
   "metadata": {},
   "source": [
    "## 第三章 模型搭建和评估-评估"
   ]
  },
  {
   "cell_type": "markdown",
   "metadata": {},
   "source": [
    "根据之前的模型的建模，我们知道如何运用sklearn这个库来完成建模，以及我们知道了的数据集的划分等等操作。那么一个模型我们怎么知道它好不好用呢？以至于我们能不能放心的使用模型给我的结果呢？那么今天的学习的评估，就会很有帮助。"
   ]
  },
  {
   "cell_type": "markdown",
   "metadata": {},
   "source": [
    "加载下面的库"
   ]
  },
  {
   "cell_type": "code",
   "execution_count": 1,
   "metadata": {},
   "outputs": [],
   "source": [
    "import pandas as pd\n",
    "import numpy as np\n",
    "import seaborn as sns\n",
    "import matplotlib.pyplot as plt\n",
    "from IPython.display import Image\n",
    "from sklearn.linear_model import LogisticRegression\n",
    "from sklearn.ensemble import RandomForestClassifier"
   ]
  },
  {
   "cell_type": "code",
   "execution_count": 2,
   "metadata": {},
   "outputs": [],
   "source": [
    "%matplotlib inline"
   ]
  },
  {
   "cell_type": "code",
   "execution_count": 3,
   "metadata": {},
   "outputs": [],
   "source": [
    "plt.rcParams['font.sans-serif'] = ['SimHei']  # 用来正常显示中文标签\n",
    "plt.rcParams['axes.unicode_minus'] = False  # 用来正常显示负号\n",
    "plt.rcParams['figure.figsize'] = (10, 6)  # 设置输出图片大小"
   ]
  },
  {
   "cell_type": "markdown",
   "metadata": {},
   "source": [
    "**任务：加载数据并分割测试集和训练集**"
   ]
  },
  {
   "cell_type": "code",
   "execution_count": 4,
   "metadata": {},
   "outputs": [],
   "source": [
    "train = pd.read_csv('train.csv')\n",
    "data = pd.read_csv('clear_data.csv')"
   ]
  },
  {
   "cell_type": "code",
   "execution_count": 5,
   "metadata": {},
   "outputs": [
    {
     "data": {
      "text/plain": [
       "RandomForestClassifier(bootstrap=True, ccp_alpha=0.0, class_weight=None,\n",
       "                       criterion='gini', max_depth=5, max_features='auto',\n",
       "                       max_leaf_nodes=None, max_samples=None,\n",
       "                       min_impurity_decrease=0.0, min_impurity_split=None,\n",
       "                       min_samples_leaf=1, min_samples_split=2,\n",
       "                       min_weight_fraction_leaf=0.0, n_estimators=100,\n",
       "                       n_jobs=None, oob_score=False, random_state=None,\n",
       "                       verbose=0, warm_start=False)"
      ]
     },
     "execution_count": 5,
     "metadata": {},
     "output_type": "execute_result"
    }
   ],
   "source": [
    "from sklearn.model_selection import train_test_split\n",
    "\n",
    "X = data\n",
    "y = train['Survived']\n",
    "\n",
    "# 分层抽样\n",
    "X_train, X_test, y_train, y_test = train_test_split(X, y, stratify=y, random_state=0)\n",
    "\n",
    "# 随机森林\n",
    "rfc2 = RandomForestClassifier(n_estimators=100, max_depth=5)\n",
    "rfc2.fit(X_train, y_train)"
   ]
  },
  {
   "cell_type": "markdown",
   "metadata": {},
   "source": [
    "### 模型评估"
   ]
  },
  {
   "cell_type": "markdown",
   "metadata": {},
   "source": [
    "* 模型评估是为了知道模型的泛化能力。\n",
    "* 交叉验证（cross-validation）是一种评估泛化性能的统计学方法，它比单次划分训练集和测试集的方法更加稳定、全面。\n",
    "* 在交叉验证中，数据被多次划分，并且需要训练多个模型。\n",
    "* 最常用的交叉验证是 k 折交叉验证（k-fold cross-validation），其中 k 是由用户指定的数字，通常取 5 或 10。\n",
    "* 准确率（precision）度量的是被预测为正例的样本中有多少是真正的正例\n",
    "* 召回率（recall）度量的是正类样本中有多少被预测为正类\n",
    "* f-分数是准确率与召回率的调和平均"
   ]
  },
  {
   "cell_type": "markdown",
   "metadata": {},
   "source": [
    "【思考】：将上面的概念进一步的理解，大家可以做一下总结"
   ]
  },
  {
   "cell_type": "markdown",
   "metadata": {},
   "source": [
    "泛化能力：机器学习算法对新鲜样本的适应能力"
   ]
  },
  {
   "cell_type": "markdown",
   "metadata": {},
   "source": [
    "#### 任务一：交叉验证\n",
    "* 用10折交叉验证来评估之前的逻辑回归模型\n",
    "* 计算交叉验证精度的平均值"
   ]
  },
  {
   "cell_type": "code",
   "execution_count": 8,
   "metadata": {},
   "outputs": [
    {
     "data": {
      "image/png": "[encoded data removed]",
      "text/plain": [
       "<IPython.core.display.Image object>"
      ]
     },
     "execution_count": 8,
     "metadata": {},
     "output_type": "execute_result"
    }
   ],
   "source": [
    "#提示：交叉验证\n",
    "Image('Snipaste_2020-01-05_16-37-56.png')"
   ]
  },
  {
   "cell_type": "markdown",
   "metadata": {},
   "source": [
    "#### 提示4\n",
    "* 交叉验证在sklearn中的模块为`sklearn.model_selection`"
   ]
  },
  {
   "cell_type": "code",
   "execution_count": 13,
   "metadata": {},
   "outputs": [
    {
     "data": {
      "text/plain": [
       "array([0.85074627, 0.79104478, 0.85074627, 0.79104478, 0.85074627,\n",
       "       0.86567164, 0.79104478, 0.80597015, 0.8030303 , 0.75757576])"
      ]
     },
     "execution_count": 13,
     "metadata": {},
     "output_type": "execute_result"
    }
   ],
   "source": [
    "# https://scikit-learn.org/stable/modules/generated/sklearn.model_selection.cross_val_predict.html\n",
    "from sklearn.model_selection import cross_val_score\n",
    "\n",
    "# 根据交叉验证评分\n",
    "# cv设置褶皱数\n",
    "scores_10 = cross_val_score(rfc2, X_train, y_train, cv=10)\n",
    "scores_10"
   ]
  },
  {
   "cell_type": "code",
   "execution_count": 14,
   "metadata": {},
   "outputs": [
    {
     "name": "stdout",
     "output_type": "stream",
     "text": [
      "Average cross-validation score 10: 0.82\n"
     ]
    }
   ],
   "source": [
    "# 平均交叉验证分数\n",
    "print(\"Average cross-validation score 10: {:.2f}\".format(scores_10.mean()))"
   ]
  },
  {
   "cell_type": "code",
   "execution_count": 11,
   "metadata": {},
   "outputs": [
    {
     "data": {
      "text/plain": [
       "array([0.82089552, 0.82835821, 0.84328358, 0.79699248, 0.7443609 ])"
      ]
     },
     "execution_count": 11,
     "metadata": {},
     "output_type": "execute_result"
    }
   ],
   "source": [
    "scores_5 = cross_val_score(rfc2, X_train, y_train, cv=5)\n",
    "scores_5"
   ]
  },
  {
   "cell_type": "code",
   "execution_count": 15,
   "metadata": {},
   "outputs": [
    {
     "name": "stdout",
     "output_type": "stream",
     "text": [
      "Average cross-validation score 5: 0.81\n"
     ]
    }
   ],
   "source": [
    "# 平均交叉验证分数\n",
    "print(\"Average cross-validation score 5: {:.2f}\".format(scores_5.mean()))"
   ]
  },
  {
   "cell_type": "markdown",
   "metadata": {},
   "source": [
    "#### 思考4\n",
    "* k折越多的情况下会带来什么样的影响？"
   ]
  },
  {
   "cell_type": "markdown",
   "metadata": {},
   "source": [
    "#### 任务二：混淆矩阵\n",
    "* 计算二分类问题的混淆矩阵\n",
    "* 计算精确率、召回率以及f-分数"
   ]
  },
  {
   "cell_type": "markdown",
   "metadata": {},
   "source": [
    "【思考】什么是二分类问题的混淆矩阵，理解这个概念，知道它主要是运算到什么任务中的"
   ]
  },
  {
   "cell_type": "markdown",
   "metadata": {},
   "source": [
    "二分类：表示分类任务中有两个类别\n",
    "\n",
    "二分类问题的混淆矩阵是一个二维方阵，用于评估二分类问题的好坏，主要运用于二分类任务中"
   ]
  },
  {
   "cell_type": "code",
   "execution_count": 16,
   "metadata": {},
   "outputs": [
    {
     "data": {
      "image/png": "[encoded data removed]",
      "text/plain": [
       "<IPython.core.display.Image object>"
      ]
     },
     "execution_count": 16,
     "metadata": {},
     "output_type": "execute_result"
    }
   ],
   "source": [
    "#提示：混淆矩阵\n",
    "Image('Snipaste_2020-01-05_16-38-26.png')"
   ]
  },
  {
   "cell_type": "code",
   "execution_count": 17,
   "metadata": {},
   "outputs": [
    {
     "data": {
      "image/png": "[encoded data removed]",
      "text/plain": [
       "<IPython.core.display.Image object>"
      ]
     },
     "execution_count": 17,
     "metadata": {},
     "output_type": "execute_result"
    }
   ],
   "source": [
    "#提示：准确率 (Accuracy),精确度（Precision）,Recall,f-分数计算方法\n",
    "Image('Snipaste_2020-01-05_16-39-27.png')"
   ]
  },
  {
   "cell_type": "markdown",
   "metadata": {},
   "source": [
    "#### 提示5\n",
    "* 混淆矩阵的方法在sklearn中的`sklearn.metrics`模块\n",
    "* 混淆矩阵需要输入真实标签和预测标签\n",
    "* 精确率、召回率以及f-分数可使用`classification_report`模块"
   ]
  },
  {
   "cell_type": "code",
   "execution_count": 19,
   "metadata": {},
   "outputs": [],
   "source": [
    "# https://scikit-learn.org/stable/modules/generated/sklearn.metrics.confusion_matrix.html\n",
    "from sklearn.metrics import confusion_matrix"
   ]
  },
  {
   "cell_type": "code",
   "execution_count": 20,
   "metadata": {},
   "outputs": [
    {
     "data": {
      "text/plain": [
       "array([[383,  29],\n",
       "       [ 62, 194]], dtype=int64)"
      ]
     },
     "execution_count": 20,
     "metadata": {},
     "output_type": "execute_result"
    }
   ],
   "source": [
    "# 模型预测结果\n",
    "pred_train = rfc2.predict(X_train)\n",
    "\n",
    "# 混淆矩阵\n",
    "confusion_matrix(y_train, pred_train)"
   ]
  },
  {
   "cell_type": "code",
   "execution_count": 22,
   "metadata": {},
   "outputs": [
    {
     "name": "stdout",
     "output_type": "stream",
     "text": [
      "              precision    recall  f1-score   support\n",
      "\n",
      "           0       0.86      0.93      0.89       412\n",
      "           1       0.87      0.76      0.81       256\n",
      "\n",
      "    accuracy                           0.86       668\n",
      "   macro avg       0.87      0.84      0.85       668\n",
      "weighted avg       0.86      0.86      0.86       668\n",
      "\n"
     ]
    }
   ],
   "source": [
    "# https://scikit-learn.org/stable/modules/generated/sklearn.metrics.classification_report.html\n",
    "from sklearn.metrics import classification_report\n",
    "\n",
    "print(classification_report(y_train, pred_train))"
   ]
  },
  {
   "cell_type": "markdown",
   "metadata": {},
   "source": [
    "【思考】\n",
    "* 如果自己实现混淆矩阵的时候该注意什么问题"
   ]
  },
  {
   "cell_type": "markdown",
   "metadata": {},
   "source": [
    "#### 任务三：ROC曲线\n",
    "* 绘制ROC曲线"
   ]
  },
  {
   "cell_type": "markdown",
   "metadata": {},
   "source": [
    "【思考】什么是ROC曲线，ROC曲线的存在是为了解决什么问题？"
   ]
  },
  {
   "cell_type": "markdown",
   "metadata": {},
   "source": [
    "ROC曲线：接收者操作特征曲线，曲线上每个点反映着对同一信号刺激的感受性\n",
    "\n",
    "ROC曲线的存在主要用于衡量模型的泛化性能，即分类效果的好坏\n",
    "\n",
    "参考：https://www.jianshu.com/p/c61ae11cc5f6"
   ]
  },
  {
   "cell_type": "markdown",
   "metadata": {},
   "source": [
    "#### 提示6\n",
    "* ROC曲线在sklearn中的模块为`sklearn.metrics`\n",
    "* ROC曲线下面所包围的面积越大越好"
   ]
  },
  {
   "cell_type": "code",
   "execution_count": 31,
   "metadata": {},
   "outputs": [
    {
     "data": {
      "text/plain": [
       "array([0.11494356, 0.44514357, 0.214234  , 0.35679146, 0.50144256,\n",
       "       0.24335901, 0.51892289, 0.12080014, 0.13390747, 0.10046506,\n",
       "       0.09317267, 0.26585319, 0.27380806, 0.17206243, 0.85287866,\n",
       "       0.89027665, 0.17525535, 0.19108856, 0.60828956, 0.79909298,\n",
       "       0.95084715, 0.89712731, 0.12200383, 0.10172779, 0.12664258,\n",
       "       0.89886973, 0.97631182, 0.62054114, 0.11780964, 0.09725997,\n",
       "       0.09428106, 0.17280337, 0.15530657, 0.21964652, 0.9272455 ,\n",
       "       0.10702555, 0.50739488, 0.97647943, 0.34442935, 0.09137096,\n",
       "       0.12182824, 0.3374959 , 0.62937186, 0.32719322, 0.09497934,\n",
       "       0.38905683, 0.95295958, 0.64167881, 0.25786411, 0.10024047,\n",
       "       0.57068562, 0.10268969, 0.34884969, 0.21892154, 0.30762213,\n",
       "       0.28273238, 0.09400318, 0.85534883, 0.1284657 , 0.75574794,\n",
       "       0.09497934, 0.11386892, 0.11626163, 0.10977425, 0.09341494,\n",
       "       0.4202939 , 0.8650447 , 0.23223699, 0.81627793, 0.10190429,\n",
       "       0.08246661, 0.12656852, 0.37098368, 0.09497934, 0.48752652,\n",
       "       0.84158131, 0.89961685, 0.35464135, 0.96408267, 0.5619818 ,\n",
       "       0.19274802, 0.85358819, 0.84892882, 0.12156943, 0.57604586,\n",
       "       0.14896538, 0.59396005, 0.1087938 , 0.48369621, 0.09671098,\n",
       "       0.6294795 , 0.30774423, 0.3062441 , 0.16591607, 0.10322476,\n",
       "       0.1400839 , 0.36131963, 0.10619218, 0.64719837, 0.09103248,\n",
       "       0.61946697, 0.11555912, 0.1165593 , 0.1173182 , 0.19235455,\n",
       "       0.39422384, 0.42013301, 0.58664412, 0.52915494, 0.32602368,\n",
       "       0.11165959, 0.11276461, 0.24783013, 0.94338893, 0.28070666,\n",
       "       0.09454791, 0.873531  , 0.96063686, 0.20205184, 0.13975998,\n",
       "       0.09298348, 0.10735548, 0.60159793, 0.56945259, 0.92138137,\n",
       "       0.2547386 , 0.97794548, 0.82384028, 0.30545366, 0.40824611,\n",
       "       0.97086107, 0.31111423, 0.08511539, 0.5552051 , 0.10984578,\n",
       "       0.19490039, 0.09483885, 0.79063511, 0.23360912, 0.53852793,\n",
       "       0.12519315, 0.1104608 , 0.96252884, 0.54098412, 0.59550828,\n",
       "       0.10723959, 0.63786294, 0.08564834, 0.12801944, 0.57545466,\n",
       "       0.49701778, 0.45319742, 0.09263109, 0.09993205, 0.13738705,\n",
       "       0.86310437, 0.15991086, 0.79514568, 0.88490211, 0.95886898,\n",
       "       0.1173182 , 0.97008267, 0.95994563, 0.77605078, 0.31052588,\n",
       "       0.22340653, 0.11057283, 0.10054562, 0.75490938, 0.1308585 ,\n",
       "       0.16564552, 0.5589487 , 0.12595027, 0.87192483, 0.15431652,\n",
       "       0.1219859 , 0.225481  , 0.09815864, 0.10754541, 0.2899566 ,\n",
       "       0.16063179, 0.12853075, 0.55431344, 0.15269011, 0.31513491,\n",
       "       0.11490564, 0.45340499, 0.09198486, 0.52576389, 0.09505562,\n",
       "       0.10020535, 0.41277912, 0.70628714, 0.35481011, 0.09446269,\n",
       "       0.97466892, 0.09452637, 0.12104242, 0.11734021, 0.08910804,\n",
       "       0.44093789, 0.07720168, 0.09959645, 0.07957446, 0.58750954,\n",
       "       0.325065  , 0.356077  , 0.61601594, 0.09115518, 0.44710332,\n",
       "       0.11334462, 0.15942586, 0.16498017, 0.08991444, 0.97466892,\n",
       "       0.17427292, 0.10112822, 0.3161656 , 0.54414634, 0.42899088,\n",
       "       0.10521142, 0.10754352, 0.19828876])"
      ]
     },
     "execution_count": 31,
     "metadata": {},
     "output_type": "execute_result"
    }
   ],
   "source": [
    "y_score = rfc2.fit(X_train, y_train).predict_proba(X_test)\n",
    "y_score[:, 1]"
   ]
  },
  {
   "cell_type": "code",
   "execution_count": 32,
   "metadata": {},
   "outputs": [
    {
     "data": {
      "text/plain": [
       "<matplotlib.legend.Legend at 0x2307fdf93c8>"
      ]
     },
     "execution_count": 32,
     "metadata": {},
     "output_type": "execute_result"
    },
    {
     "data": {
      "image/png": "[encoded data removed]",
      "text/plain": [
       "<Figure size 720x432 with 1 Axes>"
      ]
     },
     "metadata": {
      "needs_background": "light"
     },
     "output_type": "display_data"
    }
   ],
   "source": [
    "# https://scikit-learn.org/stable/modules/generated/sklearn.metrics.roc_curve.html\n",
    "from sklearn.metrics import roc_curve\n",
    "\n",
    "fpr, tpr, thresholds = roc_curve(y_test, y_score[:, 1])\n",
    "plt.plot(fpr, tpr, label=\"ROC Curve\")\n",
    "plt.xlabel(\"FPR\")\n",
    "plt.ylabel(\"TPR (recall)\")\n",
    "\n",
    "# 找到最接近于0的阈值\n",
    "close_zero = np.argmin(np.abs(thresholds)) # 取得最接近0阈值的索引值\n",
    "plt.plot(fpr[close_zero], tpr[close_zero], 'o', markersize=10, label=\"threshold zero\", fillstyle=\"none\", c='k', mew=2)\n",
    "plt.legend(loc=4)"
   ]
  },
  {
   "cell_type": "code",
   "execution_count": 33,
   "metadata": {},
   "outputs": [
    {
     "name": "stderr",
     "output_type": "stream",
     "text": [
      "c:\\users\\asus\\appdata\\local\\programs\\python\\python37\\lib\\site-packages\\sklearn\\linear_model\\_logistic.py:939: ConvergenceWarning: lbfgs failed to converge (status=1):\n",
      "STOP: TOTAL NO. of ITERATIONS REACHED LIMIT.\n",
      "\n",
      "Increase the number of iterations (max_iter) or scale the data as shown in:\n",
      "    https://scikit-learn.org/stable/modules/preprocessing.html.\n",
      "Please also refer to the documentation for alternative solver options:\n",
      "    https://scikit-learn.org/stable/modules/linear_model.html#logistic-regression\n",
      "  extra_warning_msg=_LOGISTIC_SOLVER_CONVERGENCE_MSG)\n"
     ]
    },
    {
     "data": {
      "text/plain": [
       "<matplotlib.legend.Legend at 0x2307fe465c0>"
      ]
     },
     "execution_count": 33,
     "metadata": {},
     "output_type": "execute_result"
    },
    {
     "data": {
      "image/png": "[encoded data removed]",
      "text/plain": [
       "<Figure size 720x432 with 1 Axes>"
      ]
     },
     "metadata": {
      "needs_background": "light"
     },
     "output_type": "display_data"
    }
   ],
   "source": [
    "# 训练模型\n",
    "lr = LogisticRegression(C=100)\n",
    "lr.fit(X_train, y_train)\n",
    "\n",
    "fpr, tpr, thresholds = roc_curve(y_test, lr.decision_function(X_test))\n",
    "plt.plot(fpr, tpr, label=\"ROC Curve\")\n",
    "plt.xlabel(\"FPR\")\n",
    "plt.ylabel(\"TPR (recall)\")\n",
    "# 找到最接近于0的阈值\n",
    "close_zero = np.argmin(np.abs(thresholds))\n",
    "plt.plot(fpr[close_zero], tpr[close_zero], 'o', markersize=10, label=\"threshold zero\", fillstyle=\"none\", c='k', mew=2)\n",
    "plt.legend(loc=4)"
   ]
  },
  {
   "cell_type": "markdown",
   "metadata": {},
   "source": [
    "#### 思考6\n",
    "* 对于多分类问题如何绘制ROC曲线"
   ]
  },
  {
   "cell_type": "markdown",
   "metadata": {},
   "source": [
    "【思考】你能从这条OCR曲线的到什么信息？这些信息可以做什么？\n",
    "\n",
    "下方面积越大，预测准确率越高\n",
    "\n",
    "曲线越接近左上角，预测准确率越高"
   ]
  }
 ],
 "metadata": {
  "kernelspec": {
   "display_name": "Python 3",
   "language": "python",
   "name": "python3"
  },
  "language_info": {
   "codemirror_mode": {
    "name": "ipython",
    "version": 3
   },
   "file_extension": ".py",
   "mimetype": "text/x-python",
   "name": "python",
   "nbconvert_exporter": "python",
   "pygments_lexer": "ipython3",
   "version": "3.7.3"
  },
  "toc": {
   "base_numbering": 1,
   "nav_menu": {},
   "number_sections": true,
   "sideBar": true,
   "skip_h1_title": false,
   "title_cell": "Table of Contents",
   "title_sidebar": "Contents",
   "toc_cell": false,
   "toc_position": {
    "height": "calc(100% - 180px)",
    "left": "10px",
    "top": "150px",
    "width": "384px"
   },
   "toc_section_display": true,
   "toc_window_display": true
  }
 },
 "nbformat": 4,
 "nbformat_minor": 2
}
